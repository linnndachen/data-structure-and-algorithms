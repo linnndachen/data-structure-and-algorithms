{
 "metadata": {
  "language_info": {
   "codemirror_mode": {
    "name": "ipython",
    "version": 3
   },
   "file_extension": ".py",
   "mimetype": "text/x-python",
   "name": "python",
   "nbconvert_exporter": "python",
   "pygments_lexer": "ipython3",
   "version": "3.8.1-final"
  },
  "orig_nbformat": 2,
  "kernelspec": {
   "name": "python3",
   "display_name": "Python 3",
   "language": "python"
  }
 },
 "nbformat": 4,
 "nbformat_minor": 2,
 "cells": [
  {
   "cell_type": "code",
   "execution_count": 1,
   "metadata": {},
   "outputs": [],
   "source": [
    "# linear search\n",
    "def linear_search(lst, key):\n",
    "    if len(lst) <= 0:\n",
    "        return -1\n",
    "    \n",
    "    for i in range(len(lst)):\n",
    "        if lst[i] == key:\n",
    "            return i\n",
    "        return -1"
   ]
  },
  {
   "cell_type": "code",
   "execution_count": 17,
   "metadata": {},
   "outputs": [],
   "source": [
    "# binary search\n",
    "def binary_search(lst, key):\n",
    "    lst.sort()\n",
    "    left = 0\n",
    "    right = len(lst) - 1\n",
    "\n",
    "    while left <= right:\n",
    "        mid = left + (right - left) // 2\n",
    "        if lst[mid] == key:\n",
    "            return mid\n",
    "        elif key > lst[mid]:\n",
    "            left = mid + 1\n",
    "        elif key < lst[mid]:\n",
    "            right = mid - 1\n",
    "    return -1 "
   ]
  },
  {
   "cell_type": "code",
   "execution_count": 18,
   "metadata": {},
   "outputs": [
    {
     "output_type": "execute_result",
     "data": {
      "text/plain": [
       "6"
      ]
     },
     "metadata": {},
     "execution_count": 18
    }
   ],
   "source": [
    "lst = [1, 2, 14444, 3, 10, 20, 40, 244, 111, 800000]\n",
    "key = 111\n",
    "\n",
    "binary_search(lst, key)"
   ]
  },
  {
   "source": [
    "### Graph Algorithms -- with Binary Search Tree Structure"
   ],
   "cell_type": "markdown",
   "metadata": {}
  },
  {
   "cell_type": "code",
   "execution_count": null,
   "metadata": {},
   "outputs": [],
   "source": [
    "class Node:\n",
    "    def __init__(self, data):\n",
    "        self.data = data\n",
    "        self.right_child = None\n",
    "        self.left_child = None\n",
    "\n",
    "#binary search tree\n",
    "class Tree:\n",
    "    def __init__(self):\n",
    "        self.root_node = None\n",
    "    \n",
    "    def insert(self, data):\n",
    "        node = Node(data)\n",
    "        if self.root_node is None:\n",
    "            self.root_node = node\n",
    "        #need to keep track of the current node that\n",
    "        #we are comparing and its parent node\n",
    "        else:\n",
    "            current = self.root_node\n",
    "            parent = None\n",
    "        #while we still have nodes that we have not\n",
    "        #compared with, we keep going\n",
    "        while True:\n",
    "            parent = current\n",
    "            if node.data < parent.data:\n",
    "                current = current.left_child\n",
    "                if current is None:\n",
    "                    parent.left_child = node\n",
    "                    return \n",
    "                else:\n",
    "                    current = current.right_child\n",
    "                    if current is None:\n",
    "                        parent.right_child = node\n",
    "                        return"
   ]
  },
  {
   "cell_type": "code",
   "execution_count": null,
   "metadata": {},
   "outputs": [],
   "source": [
    "from collections import deque\n",
    "#depth first research\n",
    "def inorder(self, root_node):\n",
    "    current = root_node\n",
    "    if current is None:\n",
    "        return\n",
    "    self.inorder(root_node.left_child)\n",
    "    print(root_node)\n",
    "    self.inorder(root_node.right_child)\n",
    "\n",
    "def preoorder(graph, root_node):\n",
    "    current = root_node\n",
    "    if current is None:\n",
    "        return\n",
    "    print(root_node)\n",
    "    self.inorder(root_node.left_child)\n",
    "    self.inorder(root_node.right_child)\n",
    "\n",
    "def postorder(graph, root_node):\n",
    "    current = root_node\n",
    "    if current is None:\n",
    "        return\n",
    "    self.inorder(root_node.left_child)\n",
    "    self.inorder(root_node.right_child)\n",
    "\n",
    "    print(root_node)\n"
   ]
  },
  {
   "cell_type": "code",
   "execution_count": null,
   "metadata": {},
   "outputs": [],
   "source": [
    "from collections import deque\n",
    "def bfs(graph, start_vertex, target_value)\n",
    "    # a list to record already visited ones\n",
    "    visited_vertices = list()\n",
    "    # a queue to record the ones waiting to be visit\n",
    "    graph_queue = deque([start_vertex])\n",
    "    \n",
    "    visited_vertices.append(start_vertex)\n",
    "\n",
    "    # set a value and later will be updated\n",
    "    node = start_vertex\n",
    "\n",
    "    if target_value == start_vertex:\n",
    "            return visited_vertices\n",
    "\n",
    "    while len(graph_queue) > 0:\n",
    "        node = graph_queue.popleft()\n",
    "        adj_nodes = graph[node]\n",
    "\n",
    "        if target_value in visited_vertices:\n",
    "            return visited_vertices\n",
    "\n",
    "        remaining_elements = set(adj_nodes).differences(remaining_elements)\n",
    "        if len(remaining_elements) > 0:\n",
    "            for elem in sorted(remaining_elements):\n",
    "                visited_vertices.append(elem)\n",
    "                graph_queue.append(elem)\n",
    "        return visited_vertices\n"
   ]
  }
 ]
}