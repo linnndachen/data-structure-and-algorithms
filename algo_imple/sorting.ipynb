{
 "metadata": {
  "language_info": {
   "codemirror_mode": {
    "name": "ipython",
    "version": 3
   },
   "file_extension": ".py",
   "mimetype": "text/x-python",
   "name": "python",
   "nbconvert_exporter": "python",
   "pygments_lexer": "ipython3",
   "version": "3.7.4-final"
  },
  "orig_nbformat": 2,
  "kernelspec": {
   "name": "python3",
   "display_name": "Python 3"
  }
 },
 "nbformat": 4,
 "nbformat_minor": 2,
 "cells": [
  {
   "source": [
    "### Merge Sort"
   ],
   "cell_type": "markdown",
   "metadata": {}
  },
  {
   "source": [
    "## Sorting Algorithms and Their Time Complexity"
   ],
   "cell_type": "markdown",
   "metadata": {}
  },
  {
   "source": [
    "### Bubble Sort\n",
    "Runtime: O(n^2) average and worst case. Memory: O(1)\n",
    "\n",
    "Explain: for each position in the list, we compare it with its ajacent (next) item. If the current item is bigger than the next item, we swap them. Thus, at the end of each iteration, the biggest number in the list will be place at the end."
   ],
   "cell_type": "markdown",
   "metadata": {}
  },
  {
   "cell_type": "code",
   "execution_count": 2,
   "metadata": {},
   "outputs": [],
   "source": [
    "def bubble_sort_one_iteration(l):\n",
    "    for i in range(len(l)-1):\n",
    "        if l[i] > l[i+1]:\n",
    "            temp = l[i]\n",
    "            l[i] = l[i+1]\n",
    "            l[i+1] = temp\n",
    "    return l"
   ]
  },
  {
   "source": [
    "Explain: we repeat the first iteration for n-1 times for a list of n items. For example, 3 numbers require 2 swaps maximum. \n"
   ],
   "cell_type": "markdown",
   "metadata": {}
  },
  {
   "cell_type": "code",
   "execution_count": 4,
   "metadata": {},
   "outputs": [
    {
     "output_type": "stream",
     "name": "stdout",
     "text": [
      "[3, 4, 8, 5, 9]\n[3, 4, 5, 8, 9]\n[3, 4, 5, 8, 9]\n[3, 4, 5, 8, 9]\n[3, 4, 5, 8, 9]\n"
     ]
    }
   ],
   "source": [
    "def bubble_sort(l):\n",
    "    for j in range(len(l)-1):\n",
    "        for i in range(len(l)-1):\n",
    "            if l[i] > l[i+1]:\n",
    "                temp = l[i]\n",
    "                l[i] = l[i+1]\n",
    "                l[i+1] = temp\n",
    "        print(l)\n",
    "    return l\n",
    "\n",
    "print(bubble_sort([4,3,9,8,5]))"
   ]
  },
  {
   "source": [
    "### Insertion Sort\n",
    "Runtime: still O(n) but faster than bubble Sort. The wrost case will be O(n*n)\n",
    "\n",
    "If we imagine a square. Bubble sort will fill in n x n/2 space out of n*n space. Insertion Sort will only need n x n/4 space because insertion sort doesn't need to go through the rest of the list after it found the right spot. \n",
    "\n",
    "In terms of memory, it does the swaping in place"
   ],
   "cell_type": "markdown",
   "metadata": {}
  },
  {
   "cell_type": "code",
   "execution_count": null,
   "metadata": {},
   "outputs": [],
   "source": [
    "def insertion_sort(unsorted_list):\n",
    "    for idx in range(1, len(unsorted_list)):\n",
    "        search_index = idx\n",
    "        insert_value = unsorted_list[idx]\n",
    "\n",
    "        while search_index > 0 and unsorted_list[search_index-1] > insert_value:\n",
    "            unsorted_list[search_index] = unsorted_list[search_index-1]\n",
    "            search_index -= 1\n",
    "        unsorted_list[search_index] = insert_value"
   ]
  },
  {
   "source": [
    "### Quick Sort\n",
    "\n",
    "Runtime: On average, it should be Nlog(N).\n",
    "We will divide the list to log(N) level deep and in each level, we have N elements to sort. However, in a wrost case situation, in which we picked the largest number every time as the pivot to compare with, we will end up with N.N run time.\n",
    "\n",
    "Big picture:\n",
    "It uses divide and conquer. We select a compare point and call it pivot. Then we split the list to 2 by puting the ones smaller than pivot to the left and the ones bigger to the right. We continue to divide the list until there's only 1 element left.\n",
    "\n",
    "Steps:\n",
    "\n",
    "1. select a pivot (benchmark value)\n",
    "\n",
    "2. have left and right points. Moving from left to right, left pointer is looking for the first value that is bigger than pivot. Right pointer is looking for the first value that is smaller than pivot.\n",
    "\n",
    "3. sawp the two values.\n",
    "\n",
    "4. repeat this process until both pointers cross each other.\n",
    "\n",
    "5. If the pointers crossed each other, then stop and swap the pivot with the right element. Now, all the elements smaller than the pivot is on its left and the bigger on its right\n",
    "\n",
    "6. Repeat this step with left of pivot and right of pivot seperately."
   ],
   "cell_type": "markdown",
   "metadata": {}
  },
  {
   "cell_type": "code",
   "execution_count": null,
   "metadata": {},
   "outputs": [],
   "source": [
    "# recursive implementation\n",
    "def partition(arr,low,high): \n",
    "    i = ( low-1 )         # index of smaller element \n",
    "    pivot = arr[high]     # pivot \n",
    "  \n",
    "    for j in range(low , high): \n",
    "  \n",
    "        # If current element is smaller than the pivot \n",
    "        if   arr[j] < pivot: \n",
    "          \n",
    "            # increment index of smaller element \n",
    "            i = i+1 \n",
    "            arr[i],arr[j] = arr[j],arr[i] \n",
    "  \n",
    "    arr[i+1],arr[high] = arr[high],arr[i+1] \n",
    "    return ( i+1 ) \n",
    "    "
   ]
  },
  {
   "cell_type": "code",
   "execution_count": null,
   "metadata": {},
   "outputs": [],
   "source": [
    "def quickSort(arr, low, high): \n",
    "    if low < high: \n",
    "  \n",
    "        # pi is partitioning index, arr[p] is now \n",
    "        # at right place \n",
    "        pi = partition(arr, low, high) \n",
    "  \n",
    "        # Separately sort elements before \n",
    "        # partition and after partition \n",
    "        quickSort(arr, low, pi-1) \n",
    "        quickSort(arr, pi + 1, high) "
   ]
  },
  {
   "cell_type": "code",
   "execution_count": null,
   "metadata": {},
   "outputs": [],
   "source": [
    "def quicksort(l, start, end):\n",
    "    if start >= end:\n",
    "        return\n",
    "    pivot_idx = 0\n",
    "    pivot_element = list[pivot_idx]\n",
    "    \n",
    "    less_than_pointer = start\n",
    "    for i in range(start, end):\n",
    "        if l[i] < pivot_element:\n",
    "            l[i], l[less_than_pointer] = l[less_than_pointer], l[end]\n",
    "            less_than_pointer += 1\n",
    "    l[end], l[less_than_pointer] = l[less_than_pointer], l[end]\n",
    "    \n",
    "    quicksort(l, start, less_than_pointer-1)\n",
    "    quicksort(l, less_than_pointer+1, end)\n"
   ]
  },
  {
   "source": [
    "### Merge Sort"
   ],
   "cell_type": "markdown",
   "metadata": {}
  },
  {
   "cell_type": "code",
   "execution_count": null,
   "metadata": {},
   "outputs": [],
   "source": [
    "def merge(left, right):\n",
    "    result = []\n",
    "\n",
    "    while (left and right):\n",
    "        if left [0] < right[0]:\n",
    "            result.append(left[0])\n",
    "            left.pop(0)\n",
    "        else:\n",
    "            result.append(right[0])\n",
    "            right.pop(0)\n",
    "    if left:\n",
    "        result += left\n",
    "    if right:\n",
    "        result += right\n",
    "\n",
    "    return result\n",
    "\n",
    "\n",
    "\n",
    "def merge_sort(items):\n",
    "    if len(items) <= 1:\n",
    "        return items\n",
    "    middle_index = len(items) // 2\n",
    "    left_split = items[:middle_index]\n",
    "    right_split = items[middle_index:]\n",
    "\n",
    "    #continue to split them into the smallest unit\n",
    "    left_sorted = merge_sort(left_split)\n",
    "    right_sorted = merge_sort(right_split)\n",
    "\n",
    "    return merge(left_sorted, right_sorted)"
   ]
  },
  {
   "cell_type": "code",
   "execution_count": null,
   "metadata": {},
   "outputs": [],
   "source": [
    "# implementation using linked list\n",
    "\n",
    "class Node: \n",
    "    def __init__(self, data): \n",
    "        self.data = data \n",
    "        self.next = None\n",
    "  \n",
    "class LinkedList: \n",
    "    def __init__(self): \n",
    "        self.head = None\n",
    "      \n",
    "    # push new value to linked list \n",
    "    # using append method \n",
    "    def append(self, new_value): \n",
    "          \n",
    "        # Allocate new node \n",
    "        new_node = Node(new_value) \n",
    "          \n",
    "        # if head is None, initialize it to new node \n",
    "        if self.head is None: \n",
    "            self.head = new_node \n",
    "            return\n",
    "        curr_node = self.head \n",
    "        while curr_node.next is not None: \n",
    "            curr_node = curr_node.next\n",
    "              \n",
    "        # Append the new node at the end \n",
    "        # of the linked list \n",
    "        curr_node.next = new_node \n",
    "          \n",
    "    def sortedMerge(self, a, b): \n",
    "        result = None\n",
    "          \n",
    "        # Base cases \n",
    "        if a == None: \n",
    "            return b \n",
    "        if b == None: \n",
    "            return a \n",
    "              \n",
    "        # pick either a or b and recur.. \n",
    "        if a.data <= b.data: \n",
    "            result = a \n",
    "            result.next = self.sortedMerge(a.next, b) \n",
    "        else: \n",
    "            result = b \n",
    "            result.next = self.sortedMerge(a, b.next) \n",
    "        return result \n",
    "      \n",
    "    def mergeSort(self, h): \n",
    "          \n",
    "        # Base case if head is None \n",
    "        if h == None or h.next == None: \n",
    "            return h \n",
    "  \n",
    "        # get the middle of the list  \n",
    "        middle = self.getMiddle(h) \n",
    "        nexttomiddle = middle.next\n",
    "  \n",
    "        # set the next of middle node to None \n",
    "        middle.next = None\n",
    "  \n",
    "        # Apply mergeSort on left list  \n",
    "        left = self.mergeSort(h) \n",
    "          \n",
    "        # Apply mergeSort on right list \n",
    "        right = self.mergeSort(nexttomiddle) \n",
    "  \n",
    "        # Merge the left and right lists  \n",
    "        sortedlist = self.sortedMerge(left, right) \n",
    "        return sortedlist \n",
    "      \n",
    "    # Utility function to get the middle  \n",
    "    # of the linked list  \n",
    "    def getMiddle(self, head): \n",
    "        if (head == None): \n",
    "            return head \n",
    "  \n",
    "        slow = head \n",
    "        fast = head \n",
    "  \n",
    "        while (fast.next != None and \n",
    "               fast.next.next != None): \n",
    "            slow = slow.next\n",
    "            fast = fast.next.next\n",
    "              \n",
    "        return slow \n",
    "          \n",
    "# Utility function to print the linked list  \n",
    "def printList(head): \n",
    "    if head is None: \n",
    "        print(' ') \n",
    "        return\n",
    "    curr_node = head \n",
    "    while curr_node: \n",
    "        print(curr_node.data, end = \" \") \n",
    "        curr_node = curr_node.next\n",
    "    print(' ') \n"
   ]
  },
  {
   "source": [
    "### Merge Sort vs. Quick Sort\n",
    "\n",
    "#### - which one to pick?\n",
    "Merge sort is very stable. The wrost case situation for Merge Sort is O(n(logn)) while quick sort can be n.n. On the other hand, quick sort can also be much faster than merge sort when you picked a good pivot.\n",
    "\n",
    "However, Quick Sort only requires O(n(logn)) memories - the pivot while Merge sort requires O(n)\n",
    "\n",
    "The rule of thumb is to use quick sort for smaller array while using merge sort for larger array.\n",
    "\n",
    "#### - why prefer array for quick sort while use linked list for merge sort?\n",
    "Both sorting algorithms can be implemented by using either array or linked list. However, it's better to use array for quick sort because quick sort does not require additional memory but requires lots of random access to elements. Referecing elements in array s O(1) while in linked list is O(N). For merge sort, it is vice versa.\n",
    "\n",
    "Merge sort also requries insert while quick sort is in-place sort. Linked list is much better or insertion. "
   ],
   "cell_type": "markdown",
   "metadata": {}
  },
  {
   "source": [
    "### TimSort: This is the default sorting for Java and Python\n",
    "\n",
    "Runtime:  O(nLogn), even in the wrost case\n",
    "\n",
    "Big picture:\n",
    "\n",
    "sort the small pices using insertion sort, then merges the pices using merge sort."
   ],
   "cell_type": "markdown",
   "metadata": {}
  },
  {
   "source": [
    "Modified from the previous insertion sort, now we added in left and right index. So that we can only sort part of the string. For the merging part, it remains the same."
   ],
   "cell_type": "markdown",
   "metadata": {}
  },
  {
   "cell_type": "code",
   "execution_count": null,
   "metadata": {},
   "outputs": [],
   "source": [
    "def insertion_sort(array, left=0, right=None):\n",
    "    if right is None:\n",
    "        right = len(array) - 1\n",
    "    for i in range(left + 1, right + 1):\n",
    "        key_item = array[i]\n",
    "\n",
    "        j = i - 1\n",
    "        while j >= left and array[j] > key_item:\n",
    "            array[j + 1] = array[j]\n",
    "            j -= 1\n",
    "        \n",
    "        array[j + 1] = key_item\n",
    "\n",
    "    return array"
   ]
  },
  {
   "cell_type": "code",
   "execution_count": null,
   "metadata": {},
   "outputs": [],
   "source": [
    "def timsort(array):\n",
    "    min_run = 32\n",
    "    n = len(array)\n",
    "\n",
    "    for i in range(0, n, min_run):\n",
    "        insertion_sort(array, i, min((i + min_run - 1), n - 1))\n",
    "    \n",
    "    #now we start merging\n",
    "    size = min_run\n",
    "    while size < n:\n",
    "        for start in range(0, n, size * 2):\n",
    "            # midpoint is where the first array ends\n",
    "            # and the second one starts.\n",
    "            # the end is where the 2nd array ends.\n",
    "            midpoint = start + size - 1\n",
    "            end = min((start + size * 2 - 1), (n - 1))\n",
    "\n",
    "            merged_array = merge(left=array[start:midpoint + 1], right=array[midpoint + 1:end + 1])\n",
    "            #put the merged part back to the array (this also shows merge_sort costs more memory space)\n",
    "            array[start:start + len(merged_array)] = merged_array\n",
    "        size *= 2\n",
    "    return array"
   ]
  },
  {
   "source": [
    "For the number 32. Actually, we don't have to pick 32 but we need a number that satisfy 2 conditions:\n",
    "\n",
    "- it is small enough \n",
    "\n",
    "- it is a power of two because merging 2 balanced listed is much more efficient than disproportionate size list.\n",
    "\n",
    "In reality, there will be another function to calculate the MinRun. It will make sure the len(array)/minrun is less than or equal to the power of 2 and it is small."
   ],
   "cell_type": "markdown",
   "metadata": {}
  },
  {
   "cell_type": "code",
   "execution_count": null,
   "metadata": {},
   "outputs": [],
   "source": []
  }
 ]
}