{
 "metadata": {
  "language_info": {
   "codemirror_mode": {
    "name": "ipython",
    "version": 3
   },
   "file_extension": ".py",
   "mimetype": "text/x-python",
   "name": "python",
   "nbconvert_exporter": "python",
   "pygments_lexer": "ipython3",
   "version": 3
  },
  "orig_nbformat": 2
 },
 "nbformat": 4,
 "nbformat_minor": 2,
 "cells": [
  {
   "source": [
    "Hash table is often used to increase time complexity. However, if it is easy to have collisions, I wonder how Python can still keep the look up time so fast. "
   ],
   "cell_type": "markdown",
   "metadata": {}
  },
  {
   "source": [
    "According to [this blog](https://www.jessicayung.com/how-python-implements-dictionaries/), Python tries to keep at least 1/3 of the cells empty. When it is start to filling up, it copies the dict to a different location amd make it bigger.\n",
    "\n",
    "Since Python3.6, Python made it more memory efficient by reformatted the array into 2 arrays. One compact array that holds <hash value, item key, item value> and the other sparse array holds indices that point to rows in the compact array.\n"
   ],
   "cell_type": "markdown",
   "metadata": {}
  },
  {
   "source": [
    "The psuedocode of how Python avoid collision (learned from [freeCodeCamp](https://www.freecodecamp.org/news/exploring-python-internals-the-dictionary-a32c14e73efa/)) The method is Open addressing\n"
   ],
   "cell_type": "markdown",
   "metadata": {}
  },
  {
   "cell_type": "code",
   "execution_count": null,
   "metadata": {},
   "outputs": [],
   "source": [
    "\"\"\"\n",
    "1. calculate the hash of key\n",
    "2. calculate the index of item by hash & mask\n",
    "\"\"\"\n",
    "#mask = hash table size - 1\n",
    "#aka take N last bits from the hash bits\n",
    "i = (size_t)hash & mask;\n",
    "\n",
    "\"\"\"\n",
    "if empty:\n",
    "    return keyerror\n",
    "if not empty:\n",
    "    compare the keys and hashes and input;\n",
    "    if not equal, use different bits of hash;\n",
    "\"\"\"\n",
    "    #PERTURB_SHIFT is a constant.\n",
    "    #shifting it to the right\n",
    "    i = (i*5) + 1 + perturb ;\n",
    "    perturb >>= PERTURB_SHIFT;\n",
    "    #i is the curreny array index\n",
    "    use j % 2**i as the next table index;"
   ]
  },
  {
   "source": [
    "to the the actual implementation: https://github.com/python/cpython/blob/master/Objects/dictobject.c\n",
    "\n",
    "Good explanation: \n",
    "- http://www.laurentluce.com/posts/python-dictionary-implementation/\n",
    "\n",
    "- https://stackoverflow.com/questions/21595048/how-python-dict-stores-key-value-when-collision-occurs"
   ],
   "cell_type": "markdown",
   "metadata": {}
  },
  {
   "cell_type": "code",
   "execution_count": null,
   "metadata": {},
   "outputs": [],
   "source": []
  }
 ]
}