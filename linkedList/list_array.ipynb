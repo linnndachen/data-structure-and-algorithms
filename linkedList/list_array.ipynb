{
 "metadata": {
  "language_info": {
   "codemirror_mode": {
    "name": "ipython",
    "version": 3
   },
   "file_extension": ".py",
   "mimetype": "text/x-python",
   "name": "python",
   "nbconvert_exporter": "python",
   "pygments_lexer": "ipython3",
   "version": "3.8.1-final"
  },
  "orig_nbformat": 2,
  "kernelspec": {
   "name": "python3",
   "display_name": "Python 3",
   "language": "python"
  }
 },
 "nbformat": 4,
 "nbformat_minor": 2,
 "cells": [
  {
   "source": [
    "# Linked List vs. Array"
   ],
   "cell_type": "markdown",
   "metadata": {}
  },
  {
   "source": [
    "## Node and Linked list\n",
    "linked list is based on node structure.\n",
    "\n",
    "We can imagine a node to be an indivdual pod. \n",
    "\n",
    "In each pod, we store different types of data - numbers, strings\n",
    "\n",
    "A linked list also store pointers in each pod on top of the data.\n",
    "\n",
    "If the linked list only has 1 pointer, which points forward, then it is a singly linked list. \n",
    "\n",
    "On the other hand, if it has 2 pointers, pointing forward and backward, then this is a double linked list. "
   ],
   "cell_type": "markdown",
   "metadata": {}
  },
  {
   "source": [
    "## What's the difference between a singly linked list and array?\n",
    "\n",
    "Singly linked list and array sounds similar because both of them indicate a sequence of data that can only move forward. \n",
    "\n",
    "The difference is, each element in the array is not an individual pod. \n",
    "\n",
    "We can use family and houses as an anology. \n",
    "\n",
    "Linked list is like an apartment, from the 1st floor to the 10th floor. Each floor has a different household.\n",
    "\n",
    "Array is like one of the households in the aparment of a linked list. An array is the family, all elements must be from the same family (same data type). Just like in a family, you have people from the youngest to the oldest. "
   ],
   "cell_type": "markdown",
   "metadata": {}
  },
  {
   "source": [
    "## When implementing Stack, should we use linked-list or array?\n",
    "\n",
    "Stack can be implemented by using either method. The main concern is about the memory space.\n",
    "\n",
    "- Space:\n",
    "    - array-based data structure is a lot more space efficient. The whole stack only requires 1 reference-sized array cell, while in a linked-list, each node has 2 references.\n",
    "\n",
    "    - However, a linked-list can grow and shrink dynamically. Therefore, if the Stack is empty, linked-list can free up the space. Also, dynamic array can run into the memory allocation issues. \n",
    "\n",
    "\n",
    "In Python, Stack is normally being implemented by using dynamic arrays, which the built-in list type.\n",
    "\n",
    "\"The list Built-in\n",
    "Python’s built-in list type makes a decent stack data structure as it supports push and pop operations in amortized O(1) time.\n",
    "\n",
    "Python’s lists are implemented as dynamic arrays internally which means they occasionally need to resize the storage space for elements stored in them whenever they are added or removed. The storage space is allocated more than required, so that not every push or pop requires resizing and you get an amortized O(1) time complexity for these operations.\n",
    "\n",
    "Although this makes their performance less consistent than the stable O(1) inserts and deletes provided by a linked list-based implementation. On the other hand, lists provide fast O(1) time random access to elements on the stack which can be an added benefit.\"\n",
    "\n",
    "-- From [Eruka.co](https://www.edureka.co/blog/stack-in-python/)\n"
   ],
   "cell_type": "markdown",
   "metadata": {}
  },
  {
   "cell_type": "code",
   "execution_count": null,
   "metadata": {},
   "outputs": [],
   "source": [
    "#array based\n",
    "myStack = []\n",
    "\n",
    "myStack.append('This')\n",
    "myStack.append('is')\n",
    "myStack.append('array')\n",
    "\n",
    "print(myStack) #return ['This', 'is', 'array']\n",
    "\n",
    "myStack.pop()\n",
    "#'array'"
   ]
  },
  {
   "cell_type": "code",
   "execution_count": null,
   "metadata": {},
   "outputs": [],
   "source": [
    "#use node/double linked-list based\n",
    "\n",
    "from collections import deque\n",
    "myStack = deque()\n",
    "\n",
    "myStack.append('This')\n",
    "myStack.append('is')\n",
    "myStack.append('linked-list')\n",
    "\n",
    "print(myStack) #return ['This', 'is', 'linked-list']\n",
    "\n",
    "myStack.pop()\n",
    "#'linked-list'"
   ]
  },
  {
   "source": [
    "As we can see both methods have the exact same interface. The time cost for push() and pop() operation are also the same. However, the data strucure behind both methods are different. According to [Real Python](https://realpython.com/how-to-implement-python-stack/), it would better to use deque when we don' need to consider threading.\n",
    "\n",
    "When we need to consider threading, we should use LifoQueue, in which all methods (not just push and pop) are desinged to be threaded safe. This design is in the expense of extra running time."
   ],
   "cell_type": "markdown",
   "metadata": {}
  },
  {
   "cell_type": "code",
   "execution_count": 1,
   "metadata": {},
   "outputs": [
    {
     "output_type": "stream",
     "name": "stdout",
     "text": [
      "<queue.LifoQueue object at 0x7fcc08282a90>\n"
     ]
    },
    {
     "output_type": "execute_result",
     "data": {
      "text/plain": [
       "'list'"
      ]
     },
     "metadata": {},
     "execution_count": 1
    }
   ],
   "source": [
    "from queue import LifoQueue\n",
    "myStack = LifoQueue()\n",
    "\n",
    "myStack.put('This')\n",
    "myStack.put('is')\n",
    "myStack.put('list')\n",
    "\n",
    "print(myStack) #return ['This', 'is', 'list']\n",
    "\n",
    "myStack.get()\n",
    "#'linked-list'\n"
   ]
  },
  {
   "cell_type": "code",
   "execution_count": null,
   "metadata": {},
   "outputs": [],
   "source": []
  }
 ]
}