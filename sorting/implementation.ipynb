{
 "metadata": {
  "language_info": {
   "codemirror_mode": {
    "name": "ipython",
    "version": 3
   },
   "file_extension": ".py",
   "mimetype": "text/x-python",
   "name": "python",
   "nbconvert_exporter": "python",
   "pygments_lexer": "ipython3",
   "version": "3.7.4-final"
  },
  "orig_nbformat": 2,
  "kernelspec": {
   "name": "python3",
   "display_name": "Python 3"
  }
 },
 "nbformat": 4,
 "nbformat_minor": 2,
 "cells": [
  {
   "source": [
    "## Sorting Algorithms and Their Time Complexity"
   ],
   "cell_type": "markdown",
   "metadata": {}
  },
  {
   "source": [
    "### Bubble Sort\n",
    "Runtime: O(n^2) average and worst case. Memory: O(1)\n",
    "\n",
    "Explain: for each position in the list, we compare it with its ajacent (next) item. If the current item is bigger than the next item, we swap them. Thus, at the end of each iteration, the biggest number in the list will be place at the end."
   ],
   "cell_type": "markdown",
   "metadata": {}
  },
  {
   "cell_type": "code",
   "execution_count": 2,
   "metadata": {},
   "outputs": [],
   "source": [
    "def bubble_sort_one_iteration(l):\n",
    "    for i in range(len(l)-1):\n",
    "        if l[i] > l[i+1]:\n",
    "            temp = l[i]\n",
    "            l[i] = l[i+1]\n",
    "            l[i+1] = temp\n",
    "    return l"
   ]
  },
  {
   "source": [
    "Explain: we repeat the first iteration for n-1 times for a list of n items. For example, 3 numbers require 2 swaps maximum. \n"
   ],
   "cell_type": "markdown",
   "metadata": {}
  },
  {
   "cell_type": "code",
   "execution_count": 4,
   "metadata": {},
   "outputs": [
    {
     "output_type": "stream",
     "name": "stdout",
     "text": [
      "[3, 4, 8, 5, 9]\n[3, 4, 5, 8, 9]\n[3, 4, 5, 8, 9]\n[3, 4, 5, 8, 9]\n[3, 4, 5, 8, 9]\n"
     ]
    }
   ],
   "source": [
    "def bubble_sort(l):\n",
    "    for j in range(len(l)-1):\n",
    "        for i in range(len(l)-1):\n",
    "            if l[i] > l[i+1]:\n",
    "                temp = l[i]\n",
    "                l[i] = l[i+1]\n",
    "                l[i+1] = temp\n",
    "        print(l)\n",
    "    return l\n",
    "\n",
    "print(bubble_sort([4,3,9,8,5]))"
   ]
  },
  {
   "source": [
    "### Quick Sort\n",
    "\n",
    "Runtime:\n",
    "\n",
    "Explanation:\n",
    "\n",
    "1. select a pivot (benchmark value)\n",
    "\n",
    "2. have left and right points. Moving from left to right, left pointer points to the first value that is bigger than pivot. Right pointer points to the first value that is smaller than pivot.\n",
    "\n",
    "3. sawp the two values.\n",
    "\n",
    "4. repeat this process until both pointers cross each other."
   ],
   "cell_type": "markdown",
   "metadata": {}
  },
  {
   "cell_type": "code",
   "execution_count": null,
   "metadata": {},
   "outputs": [],
   "source": [
    "def partition(l, left, right):\n",
    "    pivot = l[0]\n"
   ]
  },
  {
   "source": [
    "### Merge Sort"
   ],
   "cell_type": "markdown",
   "metadata": {}
  },
  {
   "cell_type": "code",
   "execution_count": null,
   "metadata": {},
   "outputs": [],
   "source": [
    "def merge(left, right):\n",
    "    result = []\n",
    "\n",
    "    while (left and right):\n",
    "        if left [0] < right[0]:\n",
    "            result.append(left[0])\n",
    "            left.pop(0)\n",
    "        else:\n",
    "            result.append(right[0])\n",
    "            right.pop(0)\n",
    "    if left:\n",
    "        result += left\n",
    "    if right:\n",
    "        result += right\n",
    "\n",
    "    return result\n",
    "\n",
    "\n",
    "\n",
    "def merge_sort(items):\n",
    "    if len(items) <= 1:\n",
    "        return items\n",
    "    middle_index = len(items) // 2\n",
    "    left_split = items[:middle_index]\n",
    "    right_split = items[middle_index:]\n",
    "\n",
    "    #continue to split them into the smallest unit\n",
    "    left_sorted = merge_sort(left_split)\n",
    "    right_sorted = merge_sort(right_split)\n",
    "\n",
    "    return merge(left_sorted, right_sorted)"
   ]
  },
  {
   "source": [
    "### Time Sort"
   ],
   "cell_type": "markdown",
   "metadata": {}
  }
 ]
}